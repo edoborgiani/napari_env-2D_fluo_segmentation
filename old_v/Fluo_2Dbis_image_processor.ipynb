{
 "cells": [
  {
   "cell_type": "code",
   "execution_count": 1,
   "id": "e2e1262a-3ccc-4c94-8f6e-8a5784ced14d",
   "metadata": {},
   "outputs": [
    {
     "data": {
      "text/plain": [
       "'4.5.4'"
      ]
     },
     "execution_count": 1,
     "metadata": {},
     "output_type": "execute_result"
    }
   ],
   "source": [
    "import cv2\n",
    "cv2.__version__"
   ]
  },
  {
   "cell_type": "code",
   "execution_count": 2,
   "id": "61116848-a1b8-4dea-a7da-25a040cc7e3a",
   "metadata": {},
   "outputs": [
    {
     "name": "stderr",
     "output_type": "stream",
     "text": [
      "2024-10-09 12:20:06.687231: I tensorflow/core/util/port.cc:113] oneDNN custom operations are on. You may see slightly different numerical results due to floating-point round-off errors from different computation orders. To turn them off, set the environment variable `TF_ENABLE_ONEDNN_OPTS=0`.\n",
      "2024-10-09 12:20:06.687898: I external/local_tsl/tsl/cuda/cudart_stub.cc:32] Could not find cuda drivers on your machine, GPU will not be used.\n",
      "2024-10-09 12:20:06.691042: I external/local_tsl/tsl/cuda/cudart_stub.cc:32] Could not find cuda drivers on your machine, GPU will not be used.\n",
      "2024-10-09 12:20:06.728563: I tensorflow/core/platform/cpu_feature_guard.cc:210] This TensorFlow binary is optimized to use available CPU instructions in performance-critical operations.\n",
      "To enable the following instructions: AVX2 AVX512F AVX512_VNNI FMA, in other operations, rebuild TensorFlow with the appropriate compiler flags.\n",
      "2024-10-09 12:20:07.525824: W tensorflow/compiler/tf2tensorrt/utils/py_utils.cc:38] TF-TRT Warning: Could not find TensorRT\n"
     ]
    }
   ],
   "source": [
    "# import sample data\n",
    "#from skimage.data import cells3d\n",
    "from pathlib import Path\n",
    "#import ndimage\n",
    "\n",
    "import napari\n",
    "from napari.settings import get_settings\n",
    "import math\n",
    "\n",
    "\n",
    "import statistics as st\n",
    "import xlsxwriter\n",
    "\n",
    "import numpy as np\n",
    "\n",
    "import cv2 as cv\n",
    "import matplotlib.pyplot as plt\n",
    "import SimpleITK as sitk\n",
    "import pyvista as pv\n",
    "\n",
    "import scipy\n",
    "from scipy import ndimage as ndi\n",
    "\n",
    "from skimage import io, filters\n",
    "from skimage.segmentation import watershed\n",
    "from skimage.feature import peak_local_max\n",
    "from skimage.measure import EllipseModel\n",
    "from vispy.color import Colormap\n",
    "\n",
    "from matplotlib.patches import Ellipse\n",
    "import matplotlib.transforms as transforms\n",
    "\n",
    "from csbdeep.utils import normalize\n",
    "from stardist.models import StarDist2D, Config3D, StarDist3D\n",
    "from stardist.data import test_image_nuclei_2d\n",
    "from stardist.plot import render_label\n",
    "\n",
    "from IPython.display import display_html, clear_output\n",
    "\n",
    "from aicsimageio import AICSImage"
   ]
  },
  {
   "cell_type": "code",
   "execution_count": 3,
   "id": "c41837bd-55ba-4b37-affd-bc756542813c",
   "metadata": {},
   "outputs": [
    {
     "name": "stdout",
     "output_type": "stream",
     "text": [
      "(1024, 1024, 3)\n"
     ]
    }
   ],
   "source": [
    "# Get the AICSImage object\n",
    "tiff_file='IF_2D_new_IF_2D_M1_5min_1.tif'\n",
    "meta=AICSImage(tiff_file)\n",
    "#img = io.imread(tiff_file)\n",
    "#print(img.shape)\n",
    "img = meta.get_image_data(\"XYZ\", T=0) \n",
    "print(img.shape)"
   ]
  },
  {
   "cell_type": "markdown",
   "id": "24701d78-90c0-4df3-a9ac-0f9098776dc0",
   "metadata": {},
   "source": [
    "### Information about the staining"
   ]
  },
  {
   "cell_type": "code",
   "execution_count": 4,
   "id": "0aa53135-2a20-4ad4-863d-ede8c2ebf453",
   "metadata": {},
   "outputs": [],
   "source": [
    "ch_color=['blue','red','green']\n",
    "ch_marker=['DAPI','F4-80','CD80'] #S1\n",
    "\n",
    "coord_order='YX'"
   ]
  },
  {
   "cell_type": "code",
   "execution_count": 5,
   "id": "f021b76a-2cee-40a6-a26b-f39fcbee5c56",
   "metadata": {},
   "outputs": [
    {
     "name": "stdout",
     "output_type": "stream",
     "text": [
      "[1.0251905771496683, 1.0251905771496683]\n"
     ]
    }
   ],
   "source": [
    "r_X=meta.physical_pixel_sizes.X\n",
    "r_Y=meta.physical_pixel_sizes.Y\n",
    "print([r_X,r_Y])"
   ]
  },
  {
   "cell_type": "markdown",
   "id": "388a39a6-25b4-497e-bfe1-5250ba3ad7bc",
   "metadata": {},
   "source": [
    "#### Functions"
   ]
  },
  {
   "cell_type": "code",
   "execution_count": 6,
   "id": "b528e5d3-4be6-4c08-bd1a-521791c65756",
   "metadata": {},
   "outputs": [],
   "source": [
    "def non_proc(im_in):\n",
    "    return im_in.copy()\n",
    "\n",
    "def ln_trans(im_in):\n",
    "    val_c = 255.0 / np.log(1.0 + np.max(im_in))\n",
    "    im_out = (val_c * (np.log(im_in + 1.0))).astype(int)\n",
    "    return im_out.copy()\n",
    "\n",
    "def exp_trans(im_in,val_a):\n",
    "    val_c = 255.0 / ((1.0 + val_a)**np.max(im_in) - 1.0)\n",
    "    im_out = (val_c*((1.0 + val_a)**im_in - 1.0))\n",
    "    return im_out.copy()\n",
    "\n",
    "def gamma_trans(im_in,gamma):\n",
    "    val_c = 255.0 / (np.max(im_in)**gamma)\n",
    "    im_out = val_c*(im_in**gamma)\n",
    "    return im_out.copy()\n",
    "\n",
    "def hist_slide_inc(im_in,shift_in):\n",
    "    lim=255-shift_in\n",
    "    im_out[im_in > lim] = 255\n",
    "    im_out[im_in <= lim] += shift_in\n",
    "    return im_out.copy()\n",
    "\n",
    "def hist_slide_dec(im_in,shift_dec):\n",
    "    lim=shift_dec\n",
    "    im_out[im_in < lim] = 0\n",
    "    im_out[im_in >= lim] -= shift_dec\n",
    "    return im_out.copy()\n",
    "\n",
    "def cont_stretch(im_in):\n",
    "    val_a, val_b = 0.0, 255.0\n",
    "    val_c, val_d = im_in.min(), im_in.max()\n",
    "    im_out=((im_in-val_c)*((val_b - val_a)/(val_d-val_c)) + val_a).astype(int)\n",
    "    return im_out.copy()\n",
    "\n",
    "def contr_limit(im_in,c_min,c_max):\n",
    "    alpha = 255.0/(c_max - c_min)\n",
    "    beta = - c_min * (alpha)\n",
    "    im_out=(np.clip(alpha*im_in+beta, 0.0, 255.0)).astype(int)\n",
    "    #print(np.max(im_out))\n",
    "    return im_out.copy()\n",
    "    \n",
    "def histo_equal(im_in):\n",
    "    h=im_in.shape[1]\n",
    "    w=1 #im_in.shape[2]\n",
    "    r=im_in.shape[0]\n",
    "\n",
    "    tot_pixs=h*w*r\n",
    "\n",
    "    levels=256\n",
    "\n",
    "    im_hist = np.zeros((levels))\n",
    "\n",
    "    for i in range(0,levels):\n",
    "        im_hist[i] = np.count_nonzero(im_in == i)\n",
    "\n",
    "    pdf = np.zeros((levels))\n",
    "    for i in range(0,levels):\n",
    "        pdf[i] = im_hist[i]/tot_pixs\n",
    "\n",
    "    cdf = np.zeros((levels))\n",
    "    cdf[0] = pdf[0]\n",
    "    for i in range(1, levels):\n",
    "        cdf[i] = pdf[i] + cdf[i-1]\n",
    "\n",
    "    im_out=im_in.copy()\n",
    "        \n",
    "    for u in range(0,r):\n",
    "        for j in range(0,h):\n",
    "            for k in range(0,w):\n",
    "                im_out[u,j] = int(round((levels-1) * cdf[im_in[u,j]]))\n",
    "    return im_out.copy()"
   ]
  },
  {
   "cell_type": "markdown",
   "id": "09d61176-9e49-4c94-8f04-b4fa2a16219f",
   "metadata": {},
   "source": [
    "## MULTIPLE TRANSFORM"
   ]
  },
  {
   "cell_type": "markdown",
   "id": "df20bf2a-36be-4028-9cc5-49660c4e87d1",
   "metadata": {},
   "source": [
    "##### [options: non_proc(im_in), ln_trans(im_in), exp_trans(im_in,val_a), gamma_trans(im_in,gamma), hist_slide_inc(im_in,shift_in), hist_slide_dec(im_in,shift_dec), cont_stretch(im_in), histo_equal(im_in)]"
   ]
  },
  {
   "cell_type": "code",
   "execution_count": 7,
   "id": "91d2fa2b-bd6c-448c-b91c-40adfa8b08a0",
   "metadata": {},
   "outputs": [],
   "source": [
    "trig_show_original=True\n",
    "trig_remove_noise=True\n",
    "trig_transform=True\n",
    "trig_filter=False\n",
    "trig_threshold=True\n",
    "trig_watershed=True\n",
    "trig_stardist=True\n",
    "trig_vtk_creation=True\n",
    "trig_stl_creation=True"
   ]
  },
  {
   "cell_type": "code",
   "execution_count": 8,
   "id": "f32d257a-9efb-44c3-8228-2be4978e9c2e",
   "metadata": {},
   "outputs": [
    {
     "name": "stderr",
     "output_type": "stream",
     "text": [
      "libGL error: glx: failed to create dri3 screen\n",
      "libGL error: failed to load driver: nouveau\n"
     ]
    }
   ],
   "source": [
    "if trig_show_original:\n",
    "    viewer_0 = napari.Viewer()\n",
    "    for c, c_name in enumerate(ch_marker):\n",
    "        im_in=meta.get_image_data(coord_order, Z=c, C=0, S=0, T=0)\n",
    "        #im_in=im_in[:1000,:1000]\n",
    "        im_in=(im_in/256.0).astype('uint8')\n",
    "        \n",
    "        viewer_0.add_image(im_in, name=c_name, \n",
    "                            colormap=ch_color[c], blending='additive')"
   ]
  },
  {
   "cell_type": "markdown",
   "id": "01a08be5-b40f-49db-900e-33014395c930",
   "metadata": {},
   "source": [
    "##### Test the function for histogram transformation here"
   ]
  },
  {
   "cell_type": "code",
   "execution_count": 9,
   "id": "031bb8b1-1865-4a2e-a3d7-588d9244c667",
   "metadata": {},
   "outputs": [],
   "source": [
    "viewer_0 = napari.Viewer()\n",
    "for c, c_name in enumerate(ch_marker):\n",
    "    im_in=meta.get_image_data(coord_order, Z=c, C=0, S=0, T=0)\n",
    "    #im_in=im_in[1728:2628,2332:3132]\n",
    "    im_in=(im_in/256.0).astype('uint8') \n",
    "\n",
    "    im_out=im_in.copy()\n",
    "    print_im=im_out.copy()\n",
    "\n",
    "    # REMOVE NOISE\n",
    "    im_in=im_out.copy()\n",
    "    \n",
    "    if trig_remove_noise:\n",
    "        im_out=filters.median(im_in)\n",
    "\n",
    "        print_im_0=im_out.copy()\n",
    "            \n",
    "    # #FILTERING\n",
    "    im_in=im_out.copy()\n",
    "        \n",
    "    if trig_filter:\n",
    "        im_out=filters.gaussian(im_in,1.0,preserve_range=True)\n",
    "        \n",
    "    print_im_0=im_out.copy()\n",
    "\n",
    "    #HISTOGRAM TRANSFORMATION\n",
    "    im_in=im_out.copy()\n",
    "\n",
    "    if trig_transform:\n",
    "\n",
    "        #func_list=[non_proc(im_in),contr_limit(im_in,5.0,100.0),contr_limit(im_in,5.0,20.0),non_proc(im_in)]\n",
    "        func_list=[non_proc(im_in),non_proc(im_in),non_proc(im_in)]\n",
    "\n",
    "        im_out=func_list[c]\n",
    "        im_trans=im_out.copy()\n",
    "        print_im=im_out.copy()\n",
    "\n",
    "    #NAPARI UPLOAD\n",
    "    viewer_0.add_image(print_im, name=c_name, \n",
    "                        colormap=ch_color[c], blending='additive')\n",
    "\n",
    "    viewer_0.scale_bar.visible=True\n",
    "    viewer_0.scale_bar.unit='um'"
   ]
  },
  {
   "cell_type": "code",
   "execution_count": 10,
   "id": "d4c5bc4c-1401-40d6-aa52-d8be50072574",
   "metadata": {},
   "outputs": [
    {
     "name": "stdout",
     "output_type": "stream",
     "text": [
      "Found model '2D_versatile_fluo' for 'StarDist2D'.\n",
      "Loading network weights from 'weights_best.h5'.\n"
     ]
    },
    {
     "name": "stderr",
     "output_type": "stream",
     "text": [
      "2024-10-09 12:20:12.555453: E external/local_xla/xla/stream_executor/cuda/cuda_driver.cc:282] failed call to cuInit: CUDA_ERROR_NO_DEVICE: no CUDA-capable device is detected\n",
      "2024-10-09 12:20:12.555484: I external/local_xla/xla/stream_executor/cuda/cuda_diagnostics.cc:134] retrieving CUDA diagnostic information for host: 7d489e710616\n",
      "2024-10-09 12:20:12.555492: I external/local_xla/xla/stream_executor/cuda/cuda_diagnostics.cc:141] hostname: 7d489e710616\n",
      "2024-10-09 12:20:12.555835: I external/local_xla/xla/stream_executor/cuda/cuda_diagnostics.cc:165] libcuda reported version is: 535.183.1\n",
      "2024-10-09 12:20:12.555854: I external/local_xla/xla/stream_executor/cuda/cuda_diagnostics.cc:169] kernel reported version is: 535.183.1\n",
      "2024-10-09 12:20:12.555858: I external/local_xla/xla/stream_executor/cuda/cuda_diagnostics.cc:248] kernel version seems to match DSO: 535.183.1\n"
     ]
    },
    {
     "name": "stdout",
     "output_type": "stream",
     "text": [
      "Loading thresholds from 'thresholds.json'.\n",
      "Using default values: prob_thresh=0.479071, nms_thresh=0.3.\n"
     ]
    },
    {
     "data": {
      "image/png": "[encoded data removed]",
      "text/plain": [
       "<Figure size 1500x200 with 3 Axes>"
      ]
     },
     "metadata": {},
     "output_type": "display_data"
    }
   ],
   "source": [
    "viewer_0 = napari.Viewer()\n",
    "#viewer_1 = napari.Viewer()\n",
    "\n",
    "train_scale=[r_X,r_Y]\n",
    "train_factor=[1.0,1.0]\n",
    "\n",
    "fig, axs = plt.subplots(1,3,figsize=(15,2))\n",
    "\n",
    "for c, c_name in enumerate(ch_marker):\n",
    "    im_in=meta.get_image_data(coord_order, Z=c, C=0, S=0, T=0)\n",
    "    #im_in=im_in[39:939,96:896]\n",
    "    im_in=(im_in/256.0).astype('uint8') \n",
    "\n",
    "    im_out=im_in.copy()\n",
    "    print_im=im_out.copy()\n",
    "\n",
    "    # REMOVE NOISE\n",
    "    im_in=im_out.copy()\n",
    "    \n",
    "    if trig_remove_noise:\n",
    "        im_out=filters.median(im_in)\n",
    "\n",
    "        print_im=im_out.copy()\n",
    "        \n",
    "    #FILTERING\n",
    "    im_in=im_out.copy()\n",
    "    \n",
    "    if trig_filter:\n",
    "        im_out=filters.gaussian(im_in,1.0,preserve_range=True)\n",
    "        \n",
    "        print_im=im_out.copy()\n",
    "\n",
    "    #HISTOGRAM TRANSFORMATION\n",
    "    im_in=im_out.copy()\n",
    "\n",
    "    if trig_transform:\n",
    "\n",
    "        #func_list=[non_proc(im_in),contr_limit(im_in,5.0,100.0),contr_limit(im_in,5.0,20.0),non_proc(im_in)]\n",
    "        func_list=[non_proc(im_in),non_proc(im_in),non_proc(im_in)]\n",
    "\n",
    "        im_out=func_list[c]\n",
    "        im_trans=im_out.copy()\n",
    "        print_im=im_out.copy()\n",
    "\n",
    "    #THRESHOLDING\n",
    "    im_in=im_out.copy()\n",
    "    \n",
    "    if trig_threshold:\n",
    "        # nda=sitk.GetImageFromArray(im_in)\n",
    "        \n",
    "        # otsu_filter = sitk.OtsuThresholdImageFilter()\n",
    "        # otsu_filter.SetInsideValue(0)\n",
    "        # otsu_filter.SetOutsideValue(200)\n",
    "        # seg = otsu_filter.Execute(nda)\n",
    "\n",
    "        # val=otsu_filter.GetThreshold()\n",
    "        # #print(val)\n",
    "        \n",
    "        # im_th=sitk.GetArrayFromImage(seg)\n",
    "\n",
    "        imax=255 #np.max(im_in)\n",
    "        imin=0 #np.min(im_in)\n",
    "\n",
    "        val=(imax-imin)*0.1\n",
    "        \n",
    "        im_th=(im_in>val)*200.0\n",
    "\n",
    "    else:\n",
    "        im_th=im_in.copy()\n",
    "\n",
    "    im_out=im_th.copy()\n",
    "    print_im_1=im_th.copy()\n",
    "\n",
    "    #FILTERING\n",
    "    im_in=im_out.copy()\n",
    "    \n",
    "    if (trig_threshold & trig_filter):\n",
    "        im_out=filters.gaussian(im_in,1.0,preserve_range=True)\n",
    "        im_out=im_out.astype('uint8')\n",
    "        \n",
    "        print_im_0=im_out.copy()\n",
    "\n",
    "    #WATERSHED\n",
    "    im_in=im_out.copy()\n",
    "    #im_th=im_out.copy()\n",
    "\n",
    "    labels=im_th.copy()\n",
    "    im_labels=im_trans.copy()\n",
    "    \n",
    "    if trig_watershed and c_name=='DAPI':\n",
    "        if trig_stardist:\n",
    "            model = StarDist2D.from_pretrained('2D_versatile_fluo')\n",
    "            img_te = normalize(im_labels,1.0,99.8)\n",
    "            #labels, _ = model.predict_instances(img_te,prob_thresh=0.7, nms_thresh=0.2)\n",
    "            #labels, _ = model.predict_instances(img_te)\n",
    "            labels, _ = model.predict_instances(img_te,scale=(train_scale[0],train_scale[1]),prob_thresh=0.7, nms_thresh=0.2)\n",
    "            im_mask=im_th/np.max(im_th)\n",
    "            im_mask=ndi.binary_erosion(im_mask,structure=np.ones((2,2))).astype(im_mask.dtype)\n",
    "            im_positive=labels*(im_mask)\n",
    "            list_positive=list(np.unique(im_positive))\n",
    "            list_positive=list_positive[1:]\n",
    "            #print(list_positive)\n",
    "        else:\n",
    "            distance = ndi.distance_transform_edt(im_th_filt)\n",
    "            coords = peak_local_max(distance, footprint=np.ones((3,3)), labels=im_th_filt.astype('uint8'))\n",
    "            mask = np.zeros(distance.shape, dtype=bool)\n",
    "            mask[tuple(coords.T)] = True\n",
    "            markers, _ = ndi.label(mask)\n",
    "            labels = watershed(-distance, markers, mask=im_th_filt)\n",
    "\n",
    "        cm=np.random.rand(int(np.max(labels)),3)\n",
    "        cm[0,:]=[0.0,0.0,0.0]\n",
    "        colormaps_water=Colormap(cm)\n",
    "\n",
    "        print_im_water=labels.copy()\n",
    "\n",
    "        viewer_0.add_image(print_im_water, name=c_name, scale=(r_X,r_Y),\n",
    "                        colormap=colormaps_water, blending='additive')\n",
    "\n",
    "    globals()[c_name+'lab']=labels.copy()\n",
    "    globals()[c_name+'mag']=im_labels.copy()\n",
    "\n",
    "    #NAPARI UPLOAD\n",
    "    viewer_0.add_image(print_im_1, name=c_name, scale=(r_X,r_Y),\n",
    "                        colormap=ch_color[c], blending='additive')\n",
    "\n",
    "    viewer_0.scale_bar.visible=True\n",
    "    viewer_0.scale_bar.unit='um'\n",
    "    # viewer_1.scale_bar.visible=True\n",
    "    # viewer_1.scale_bar.unit='um'\n",
    "\n",
    "    #print(np.shape(labels))\n",
    "    #print(np.shape(im_mask))\n",
    "\n",
    "\n",
    "    #HISTOGRAM PLOTTING\n",
    "    hist,bins = np.histogram(im_trans.flatten(),256,[0,256])\n",
    "    \n",
    "    cdf = hist.cumsum()\n",
    "    cdf_normalized = cdf* hist.max()/ cdf.max()\n",
    "\n",
    "    axs[c].plot(cdf_normalized, color = 'b')\n",
    "    if ch_color[c]=='white':\n",
    "        axs[c].hist(im_trans.flatten(),256,[0,256], color = 'gray')\n",
    "    else:\n",
    "        axs[c].hist(im_trans.flatten(),256,[0,256], color = ch_color[c])\n",
    "    axs[c].set_xlim([0,256])\n",
    "    #axs[c].set_ylim([0,100])\n",
    "    axs[c].legend(('cdf','histogram'), loc = 'upper left')\n",
    "    if trig_threshold:\n",
    "        axs[c].plot([val,val],[0,cdf_normalized.max()],color='g')\n",
    "    axs[c].set_title(c_name)\n",
    "    axs[c].set_yscale('log')"
   ]
  },
  {
   "cell_type": "markdown",
   "id": "e8c95c66-dd96-4435-b53d-2ce04809c503",
   "metadata": {},
   "source": [
    "## Eccentricity analysis"
   ]
  },
  {
   "cell_type": "code",
   "execution_count": 11,
   "id": "212432e2-d53e-426e-9bc4-c83746a8c417",
   "metadata": {},
   "outputs": [],
   "source": [
    "cyto_marker='F4-80'\n",
    "cyto_pos=ch_marker.index(cyto_marker)\n",
    "#print(cyto_pos)\n",
    "\n",
    "#im_cyto=meta.get_image_data(coord_order, Z=cyto_pos, C=0, S=0, T=0)\n",
    "im_cyto=globals()[cyto_marker+'lab']"
   ]
  },
  {
   "cell_type": "code",
   "execution_count": 12,
   "id": "5f20c232-b146-40ec-bf5b-15859e9b4103",
   "metadata": {},
   "outputs": [],
   "source": [
    "dil_kernel = np.ones((3, 3), np.uint8)\n",
    "\n",
    "nuclei=DAPIlab.copy()\n",
    "cyto=0.0+(im_cyto+nuclei)>0\n",
    "\n",
    "overl=nuclei*cyto\n",
    "\n",
    "#cyto=((overl-1.0)+cyto)+1.0\n",
    "\n",
    "complete=False\n",
    "k=0\n",
    "\n",
    "#cm=np.random.rand(1000,3)\n",
    "cm[0,:]=[0.0,0.0,0.0]\n",
    "colormaps_rand=Colormap(cm)\n",
    "\n",
    "list_nuclei=list(np.unique(DAPIlab)[1:])\n",
    "list_cyto=list_nuclei.copy()\n",
    "\n",
    "final_overl=np.zeros(overl.shape)\n",
    "old_mask_ex=np.zeros(overl.shape)\n",
    "\n",
    "for j in list_nuclei:\n",
    "    complete=False\n",
    "    cyto_overl=(overl==j)*1.0\n",
    "    if np.isin(j, list_cyto):\n",
    "        k=0\n",
    "        #print(j)\n",
    "        while not complete:\n",
    "            ex_cyto=cv.dilate(cyto_overl,dil_kernel)\n",
    "            mask_ex_cyto=(ex_cyto*(cyto==1.0))\n",
    "            if (len(np.unique(mask_ex_cyto*nuclei))<3):\n",
    "                #print(np.unique(mask_ex_cyto*nuclei))\n",
    "                cyto_overl=mask_ex_cyto\n",
    "            else:\n",
    "                list_cyto.remove(j)\n",
    "                complete=True\n",
    "                cyto_overl=np.zeros(overl.shape)\n",
    "            if (k>20) or (np.all(old_mask_ex==mask_ex_cyto)):\n",
    "                complete=True\n",
    "            k+=1\n",
    "            old_mask_ex=mask_ex_cyto\n",
    "        final_overl=final_overl+cyto_overl*j\n",
    "\n",
    "overl_mask=np.isin(final_overl,list_cyto)\n",
    "final_overl[~overl_mask]=0\n",
    "overl=final_overl"
   ]
  },
  {
   "cell_type": "code",
   "execution_count": 13,
   "id": "726a9cd5-f24d-461f-a313-7c8bde5a5738",
   "metadata": {},
   "outputs": [
    {
     "data": {
      "text/plain": [
       "<Image layer 'Cyto' at 0x7b2ebb593310>"
      ]
     },
     "execution_count": 13,
     "metadata": {},
     "output_type": "execute_result"
    }
   ],
   "source": [
    "viewer_0 = napari.Viewer()\n",
    "\n",
    "viewer_0.add_image(nuclei, name='DAPI', \n",
    "    colormap='blue', blending='additive')\n",
    "viewer_0.add_image(globals()[cyto_marker+'mag'], name='BF', \n",
    "    colormap='white', blending='additive')\n",
    "viewer_0.add_image(overl, name='Cyto', \n",
    "    colormap='red', blending='additive')"
   ]
  },
  {
   "cell_type": "markdown",
   "id": "f5962ff6-44d1-4a69-9249-8340118f3767",
   "metadata": {},
   "source": [
    "### Check eccentricity of cells"
   ]
  },
  {
   "cell_type": "code",
   "execution_count": 14,
   "id": "f370e0ca-865b-45bb-91da-75b0d1dbef6a",
   "metadata": {},
   "outputs": [
    {
     "name": "stderr",
     "output_type": "stream",
     "text": [
      "color_transformations.py (53): The provided face_color parameter has 516 entries, while the data contains 120 entries. Setting face_color to white.\n",
      "color_transformations.py (53): The provided face_color parameter has 516 entries, while the data contains 120 entries. Setting face_color to white.\n"
     ]
    },
    {
     "data": {
      "text/plain": [
       "<Shapes layer 'cumulative ellipses' at 0x7b2ebabdbe50>"
      ]
     },
     "execution_count": 14,
     "metadata": {},
     "output_type": "execute_result"
    }
   ],
   "source": [
    "viewer_1 = napari.Viewer()\n",
    "mat_ecc=np.zeros(overl.shape)\n",
    "shapepoints=[]\n",
    "shapepoints_glob=[]\n",
    "shape_cm=np.zeros((len(list_cyto)+1,3))\n",
    "elpoints=np.array([[0,0],[0,0],[0,0],[0,0]])\n",
    "shapepoints.append(elpoints)\n",
    "shapepoints_glob.append(elpoints)\n",
    "step_colormap=len(cm)/int(np.max(DAPIlab))\n",
    "\n",
    "data_ellipse_x=[]\n",
    "data_ellipse_y=[]\n",
    "data_ellipse_a=[]\n",
    "data_ellipse_b=[]\n",
    "data_ellipse_theta=[]\n",
    "data_ellipse_area=[]\n",
    "data_ellipse_ecc=[]\n",
    "\n",
    "for j,v in enumerate(list_cyto):\n",
    "    points=[]\n",
    "    shape_cm[j,:]=cm[math.floor(step_colormap*(j))]\n",
    "    x,y=np.where(overl==v)\n",
    "    for c,cx in enumerate(x):\n",
    "        points=points+[(cx,y[c])]\n",
    "\n",
    "    a_points = np.array(points)\n",
    "        \n",
    "    ell = EllipseModel()\n",
    "    ell.estimate(a_points)\n",
    "\n",
    "    xcen, ycen, a, b, theta = ell.params\n",
    "\n",
    "    area=np.pi*a*b\n",
    "\n",
    "    if area*(r_X*r_X)>150: #um2\n",
    "\n",
    "        data_ellipse_x.append(xcen)\n",
    "        data_ellipse_y.append(ycen)\n",
    "        data_ellipse_a.append(a)\n",
    "        data_ellipse_b.append(b)\n",
    "        data_ellipse_theta.append(theta)\n",
    "        data_ellipse_area.append(area)\n",
    "\n",
    "        ecc=np.min([a,b])/np.max([a,b])\n",
    "        data_ellipse_ecc.append(ecc)  \n",
    "    \n",
    "        pA=[xcen+a*np.cos(theta)-b*np.sin(theta),ycen+b*np.cos(theta)+a*np.sin(theta)]\n",
    "        pB=[xcen-a*np.cos(theta)-b*np.sin(theta),ycen+b*np.cos(theta)-a*np.sin(theta)]\n",
    "        pC=[xcen-a*np.cos(theta)+b*np.sin(theta),ycen-b*np.cos(theta)-a*np.sin(theta)]\n",
    "        pD=[xcen+a*np.cos(theta)+b*np.sin(theta),ycen-b*np.cos(theta)+a*np.sin(theta)]\n",
    "\n",
    "        elpoints=np.array([pA,pB,pC,pD])\n",
    "        shapepoints.append(elpoints)\n",
    "\n",
    "        xcen=0.0\n",
    "        ycen=0.0\n",
    "\n",
    "        pA=[xcen+a*np.cos(theta)-b*np.sin(theta),ycen+b*np.cos(theta)+a*np.sin(theta)]\n",
    "        pB=[xcen-a*np.cos(theta)-b*np.sin(theta),ycen+b*np.cos(theta)-a*np.sin(theta)]\n",
    "        pC=[xcen-a*np.cos(theta)+b*np.sin(theta),ycen-b*np.cos(theta)-a*np.sin(theta)]\n",
    "        pD=[xcen+a*np.cos(theta)+b*np.sin(theta),ycen-b*np.cos(theta)+a*np.sin(theta)]\n",
    "\n",
    "        elpoints=np.array([pA,pB,pC,pD])\n",
    "        shapepoints_glob.append(elpoints)\n",
    "\n",
    "#viewer_0 = napari.Viewer()\n",
    "\n",
    "colormaps_shapes_rand=Colormap(shape_cm)\n",
    "viewer_0.add_shapes(shapepoints, name='ellipses', shape_type='ellipse', \n",
    "    face_color=cm, blending='additive')\n",
    "\n",
    "viewer_1.add_shapes(shapepoints_glob, name='cumulative ellipses', shape_type='ellipse', \n",
    "    face_color=cm, blending='additive')"
   ]
  },
  {
   "cell_type": "markdown",
   "id": "a26bd76b-5805-4026-952d-3b7b343840c0",
   "metadata": {},
   "source": [
    "## Quantification nuclei marker"
   ]
  },
  {
   "cell_type": "code",
   "execution_count": 15,
   "id": "cf431e1f-94b5-4e66-aef5-accb0297f5ec",
   "metadata": {},
   "outputs": [],
   "source": [
    "ch_marker_2=ch_marker.copy()\n",
    "ch_color_2=ch_color.copy()\n",
    "ch_marker_2.remove('DAPI')\n",
    "#ch_marker_2.remove('BF')\n",
    "ch_color_2.remove('blue')\n",
    "#ch_color_2.remove('white')\n",
    "\n",
    "viewer_0 = napari.Viewer()\n",
    "nuc_coord=np.zeros((int(np.max(DAPIlab))+1,2))\n",
    "coord_done=False\n",
    "#viewer_1 = napari.Viewer()\n",
    "for c, channel in enumerate(ch_marker_2):\n",
    "    ass_channel=np.zeros(DAPIlab.shape)\n",
    "    globals()[channel+'pos']=[]\n",
    "    globals()[channel+'coord']=np.zeros((int(np.max(DAPIlab))+1,2))\n",
    "    #ass_channel_2=np.zeros(DAPIlab.shape)\n",
    "    for j in range(1,int(np.max(DAPIlab))+1):\n",
    "        if coord_done==False:\n",
    "            x,y=np.where(DAPIlab==j)\n",
    "            c_area=np.sum(DAPIlab==j)\n",
    "            nuc_coord[j,0]=np.mean(x)*globals()['r_'+coord_order[0]]\n",
    "            nuc_coord[j,1]=np.mean(y)*globals()['r_'+coord_order[1]]\n",
    "        if np.sum(globals()[channel+'lab']*(DAPIlab==j)/np.max(globals()[channel+'lab']))>(c_area/2):\n",
    "            ass_channel=ass_channel+(DAPIlab==j)*1.0\n",
    "            globals()[channel+'coord'][j,0]=nuc_coord[j,0]\n",
    "            globals()[channel+'coord'][j,1]=nuc_coord[j,1]          \n",
    "            globals()[channel+'pos'].append(j)\n",
    "        #ass_channel_2=ass_channel_2+globals()[channel+'mag']*(DAPIlab==j)/np.max(globals()[channel+'mag'])\n",
    "        #print(np.max(DAPIlab))\n",
    "    coord_done=True\n",
    "\n",
    "    viewer_0.add_image(ass_channel, name=channel, \n",
    "        colormap=ch_color_2[c], blending='additive')\n",
    "    # viewer_1.add_image(ass_channel_2, name=channel, \n",
    "    #     colormap=colormaps[c+1], blending='additive')\n",
    "        "
   ]
  },
  {
   "cell_type": "markdown",
   "id": "b8aab820-7f42-4903-8132-d83edc9479d4",
   "metadata": {},
   "source": [
    "## QUANTIFICATION"
   ]
  },
  {
   "cell_type": "code",
   "execution_count": 16,
   "id": "daa39366-2597-49b1-b520-1c7cfe34090c",
   "metadata": {},
   "outputs": [
    {
     "name": "stdout",
     "output_type": "stream",
     "text": [
      "TOTAL NUCLEI 517\n",
      "PERC F4-80 91.8762088974855 %\n",
      "PERC F4-80 + CD80 15.667311411992262 %\n",
      "PERC CD80 17.02127659574468 %\n"
     ]
    },
    {
     "data": {
      "image/png": "[encoded data removed]",
      "text/plain": [
       "<Figure size 1500x1000 with 2 Axes>"
      ]
     },
     "metadata": {},
     "output_type": "display_data"
    }
   ],
   "source": [
    "print('TOTAL NUCLEI ' + str(np.max(DAPIlab)+1))\n",
    "for c, channel in enumerate(ch_marker_2):\n",
    "    print('PERC ' + channel + ' ' + str(100.0 * len(globals()[channel + 'pos'])/(np.max(DAPIlab)+1)) + ' %')\n",
    "    for c2, channel2 in enumerate(ch_marker_2[c+1:]):\n",
    "        print('PERC ' + channel + ' + ' + channel2 + ' ' + str(100.0 * len(list(set(globals()[channel+ 'pos']).intersection(globals()[channel2 + 'pos'])))/(np.max(DAPIlab)+1)) + ' %')\n",
    "fig, axs = plt.subplots(2,1,figsize=(15,10))\n",
    "leg=[]\n",
    "axs[0].hist(nuc_coord[1:,coord_order.find('X')],bins=30,range=(min(nuc_coord[1:,coord_order.find('X')]),max(nuc_coord[1:,coord_order.find('X')])),alpha=0.8,edgecolor='black')\n",
    "for c, channel in enumerate(ch_marker_2):\n",
    "    axs[0].hist(globals()[channel+'coord'][globals()[channel + 'pos'],coord_order.find('X')],bins=30,range=(min(nuc_coord[1:,coord_order.find('X')]),max(nuc_coord[1:,coord_order.find('X')])),alpha=0.8,color=ch_color_2[c],edgecolor='black')\n",
    "    leg=leg+[str(channel)]\n",
    "    for c2, channel2 in enumerate(ch_marker_2[c+1:]):\n",
    "        axs[0].hist(globals()[channel+'coord'][list(set(globals()[channel+ 'pos']).intersection(globals()[channel2 + 'pos'])),coord_order.find('X')],bins=30,range=(min(nuc_coord[1:,coord_order.find('X')]),max(nuc_coord[1:,coord_order.find('X')])),alpha=0.8,color='yellow',edgecolor='black')\n",
    "        #print('PERC ' + channel + ' + ' + channel2 + ' ' + str(100.0 * len(list(set(globals()[channel+ 'pos']).intersection(globals()[channel2 + 'pos'])))/np.max(DAPIlab)+1) + ' %')\n",
    "        leg=leg+[str(channel + ' + ' + channel2)]\n",
    "axs[0].set_title('NUCLEI X DISTRIBUTION')\n",
    "axs[0].set_xlabel('[μm]')\n",
    "axs[0].legend(['DAPI']+leg, loc='upper right')\n",
    "axs[1].hist(nuc_coord[1:,coord_order.find('Y')],bins=30,range=(min(nuc_coord[1:,coord_order.find('Y')]),max(nuc_coord[1:,coord_order.find('Y')])),alpha=0.8,edgecolor='black')\n",
    "for c, channel in enumerate(ch_marker_2):\n",
    "    axs[1].hist(globals()[channel+'coord'][globals()[channel + 'pos'],coord_order.find('Y')],bins=30,range=(min(nuc_coord[1:,coord_order.find('Y')]),max(nuc_coord[1:,coord_order.find('Y')])),alpha=0.8,color=ch_color_2[c],edgecolor='black')\n",
    "    for c2, channel2 in enumerate(ch_marker_2[c+1:]):\n",
    "        axs[1].hist(globals()[channel+'coord'][list(set(globals()[channel+ 'pos']).intersection(globals()[channel2 + 'pos'])),coord_order.find('Y')],bins=30,range=(min(nuc_coord[1:,coord_order.find('Y')]),max(nuc_coord[1:,coord_order.find('Y')])),alpha=0.8,color='yellow',edgecolor='black')\n",
    "        #print('PERC ' + channel + ' + ' + channel2 + ' ' + str(100.0 * len(list(set(globals()[channel+ 'pos']).intersection(globals()[channel2 + 'pos'])))/np.max(DAPIlab)+1) + ' %')\n",
    "axs[1].set_title('NUCLEI Y DISTRIBUTION')\n",
    "axs[1].set_xlabel('[μm]')\n",
    "axs[1].legend(['DAPI']+leg, loc='upper right')\n",
    "plt.show()"
   ]
  },
  {
   "cell_type": "markdown",
   "id": "f22798fb-1521-47ee-a350-6313ebaa2c65",
   "metadata": {},
   "source": [
    "#### Eccentricity"
   ]
  },
  {
   "cell_type": "code",
   "execution_count": 17,
   "id": "2e58d940-6208-4f9b-8cb4-7d42b018b03b",
   "metadata": {},
   "outputs": [
    {
     "name": "stdout",
     "output_type": "stream",
     "text": [
      "AVG ECCENTRICITY 0.6449013916392735\n",
      "STDEV ECCENTRICITY 0.17247103463180444\n"
     ]
    },
    {
     "data": {
      "image/png": "[encoded data removed]",
      "text/plain": [
       "<Figure size 1000x500 with 1 Axes>"
      ]
     },
     "metadata": {},
     "output_type": "display_data"
    }
   ],
   "source": [
    "print('AVG ECCENTRICITY ' + str(np.mean(data_ellipse_ecc)))\n",
    "print('STDEV ECCENTRICITY ' + str(np.std(data_ellipse_ecc)))\n",
    "fig, axs = plt.subplots(1,1,figsize=(10,5))\n",
    "axs.hist(data_ellipse_ecc,bins=10,range=(min(data_ellipse_ecc),max(data_ellipse_ecc)),alpha=0.8,edgecolor='black')\n",
    "axs.set_title('ECCENTRICITY')\n",
    "fig.savefig(\"plot_eccent.svg\")"
   ]
  },
  {
   "cell_type": "markdown",
   "id": "a070bde8-0355-4bec-a563-1f7740d942a2",
   "metadata": {},
   "source": [
    "### Create a complete report XSL"
   ]
  },
  {
   "cell_type": "code",
   "execution_count": 42,
   "id": "adc2e11d-cb10-4982-97a5-8ab45fd11d24",
   "metadata": {},
   "outputs": [],
   "source": [
    "workbook=xlsxwriter.Workbook(Path(tiff_file).stem+'.xlsx')\n",
    "\n",
    "## FORMATS\n",
    "header=workbook.add_format({'bg_color':'blue','bold':True})\n",
    "#header.set_bg_color('yellow')\n",
    "floats=workbook.add_format({'num_format':'0.00'})\n",
    "percs=workbook.add_format({'num_format':'0.00%'})\n",
    "text=workbook.add_format({'num_format':'@'})\n",
    "\n",
    "## MACROPHAGES TAB\n",
    "worksheet_cell=workbook.add_worksheet('Macrophages')\n",
    "\n",
    "#HEADER\n",
    "worksheet_cell.write_row('A1:C1',['#ID','X','Y'],header)\n",
    "column=3\n",
    "for c, channel in enumerate(ch_marker_2):\n",
    "    header=workbook.add_format({'bg_color':ch_color_2[c],'bold':True})\n",
    "    worksheet_cell.write(0,column,channel,header)\n",
    "    column+=1\n",
    "    for c2, channel2 in enumerate(ch_marker_2[c+1:]):\n",
    "        header=workbook.add_format({'bg_color':'yellow','bold':True})\n",
    "        worksheet_cell.write(0,column,channel + ' + ' + channel2 ,header)\n",
    "        column+=1        \n",
    "    \n",
    "#CONTENT\n",
    "for row in range(1,int(np.max(DAPIlab))+1):\n",
    "    worksheet_cell.write(row,0,row)\n",
    "    worksheet_cell.write(row,1,nuc_coord[row][coord_order.find('X')],floats)\n",
    "    worksheet_cell.write(row,2,nuc_coord[row][coord_order.find('Y')],floats)\n",
    "    column=3\n",
    "    for c, channel in enumerate(ch_marker_2):\n",
    "        ass_channel=(globals()[channel+'lab']*(DAPIlab==row)/np.max(globals()[channel+'lab']))>0\n",
    "        worksheet_cell.write(row,column,(np.sum(ass_channel)>0).astype('bool'),text)\n",
    "        column+=1\n",
    "        for c2, channel2 in enumerate(ch_marker_2[c+1:]):\n",
    "            ass_channel=(globals()[channel+'lab']*(DAPIlab==row)/np.max(globals()[channel+'lab']))>0\n",
    "            ass_channel2=(globals()[channel2+'lab']*(DAPIlab==row)/np.max(globals()[channel2+'lab']))>0\n",
    "            worksheet_cell.write(row,column,((np.sum(ass_channel)>0)and(np.sum(ass_channel2)>0)).astype('bool'),text)\n",
    "            column+=1 \n",
    "\n",
    "## RECAP TAB\n",
    "worksheet_recap=workbook.add_worksheet('Recap')\n",
    "\n",
    "#CONTENT\n",
    "worksheet_recap.write_row('A1:A2',['Tot. cells',np.max(DAPIlab)+1])\n",
    "row=1\n",
    "for c, channel in enumerate(ch_marker_2):\n",
    "    worksheet_recap.write(row,0,'PERC ' + channel,text)\n",
    "    worksheet_recap.write(row,1,len(globals()[channel + 'pos'])/(np.max(DAPIlab)+1),percs) \n",
    "    row+=1\n",
    "    for c2, channel2 in enumerate(ch_marker_2[c+1:]):\n",
    "        worksheet_recap.write(row,0,'PERC ' + channel + ' + ' + channel2,text)\n",
    "        worksheet_recap.write(row,1,len(list(set(globals()[channel+ 'pos']).intersection(globals()[channel2 + 'pos'])))/(np.max(DAPIlab)+1),percs) \n",
    "        row+=1\n",
    "\n",
    "\n",
    "workbook.close()"
   ]
  },
  {
   "cell_type": "code",
   "execution_count": null,
   "id": "8faec5b6-1f99-45db-88d2-1d49a7ea0409",
   "metadata": {},
   "outputs": [],
   "source": []
  },
  {
   "cell_type": "code",
   "execution_count": null,
   "id": "bcf11911-70a0-4992-ac2c-22e96c206338",
   "metadata": {},
   "outputs": [],
   "source": []
  }
 ],
 "metadata": {
  "kernelspec": {
   "display_name": "Python 3 (ipykernel)",
   "language": "python",
   "name": "python3"
  },
  "language_info": {
   "codemirror_mode": {
    "name": "ipython",
    "version": 3
   },
   "file_extension": ".py",
   "mimetype": "text/x-python",
   "name": "python",
   "nbconvert_exporter": "python",
   "pygments_lexer": "ipython3",
   "version": "3.10.12"
  }
 },
 "nbformat": 4,
 "nbformat_minor": 5
}
